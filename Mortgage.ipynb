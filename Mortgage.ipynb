{
  "nbformat": 4,
  "nbformat_minor": 0,
  "metadata": {
    "colab": {
      "provenance": [],
      "authorship_tag": "ABX9TyOirGDAQx0vYa9HymZJdrA8",
      "include_colab_link": true
    },
    "kernelspec": {
      "name": "python3",
      "display_name": "Python 3"
    },
    "language_info": {
      "name": "python"
    }
  },
  "cells": [
    {
      "cell_type": "markdown",
      "metadata": {
        "id": "view-in-github",
        "colab_type": "text"
      },
      "source": [
        "<a href=\"https://colab.research.google.com/github/joeysacco9/Miami320/blob/main/Mortgage.ipynb\" target=\"_parent\"><img src=\"https://colab.research.google.com/assets/colab-badge.svg\" alt=\"Open In Colab\"/></a>"
      ]
    },
    {
      "cell_type": "code",
      "execution_count": 24,
      "metadata": {
        "id": "oQreCiw6cxYy"
      },
      "outputs": [],
      "source": [
        "class Mortgage:\n",
        "  def __init__(self, amount, maturity, interest):\n",
        "    self.amount = amount\n",
        "    self.maturity = maturity\n",
        "    self.__interest = interest\n",
        "\n",
        "  def get_interest(self):\n",
        "    return self.__interest\n",
        "\n",
        "  def set_interest(self,newInterest):\n",
        "    if newInterest >= 0:\n",
        "      self.__interest = newInterest\n",
        "    else:\n",
        "      print(\"Interest must be non-negative!\")\n",
        "\n",
        "\n",
        "  def payment(self):\n",
        "    term = 12*self.maturity\n",
        "    r = self.interest/100\n",
        "    return self.amount * (r * (1+ r) ** term) / ((1+r) ** term -1)"
      ]
    },
    {
      "cell_type": "code",
      "source": [
        "m = Mortgage(100000,30,6)"
      ],
      "metadata": {
        "id": "3dvCW6SOgQLr"
      },
      "execution_count": 25,
      "outputs": []
    },
    {
      "cell_type": "code",
      "source": [
        "m.payment()"
      ],
      "metadata": {
        "id": "5SypERL6is9b"
      },
      "execution_count": null,
      "outputs": []
    },
    {
      "cell_type": "code",
      "source": [
        "m.interest"
      ],
      "metadata": {
        "id": "y5qudsB6ivuI"
      },
      "execution_count": null,
      "outputs": []
    },
    {
      "cell_type": "code",
      "source": [
        "m.get_interest()"
      ],
      "metadata": {
        "colab": {
          "base_uri": "https://localhost:8080/"
        },
        "id": "NHbMRmnFlJsZ",
        "outputId": "a3877222-babb-4a6f-f62b-47b0c3fbed9e"
      },
      "execution_count": 28,
      "outputs": [
        {
          "output_type": "execute_result",
          "data": {
            "text/plain": [
              "6"
            ]
          },
          "metadata": {},
          "execution_count": 28
        }
      ]
    },
    {
      "cell_type": "code",
      "source": [
        "m.set_interest(5)\n",
        "m.get_interest"
      ],
      "metadata": {
        "colab": {
          "base_uri": "https://localhost:8080/",
          "height": 104
        },
        "id": "tr2G4YtElQGo",
        "outputId": "723bd420-2445-4747-e3f2-356094187f17"
      },
      "execution_count": 29,
      "outputs": [
        {
          "output_type": "execute_result",
          "data": {
            "text/plain": [
              "<bound method Mortgage.get_interest of <__main__.Mortgage object at 0x7c8ec01c22f0>>"
            ],
            "text/html": [
              "<div style=\"max-width:800px; border: 1px solid var(--colab-border-color);\"><style>\n",
              "      pre.function-repr-contents {\n",
              "        overflow-x: auto;\n",
              "        padding: 8px 12px;\n",
              "        max-height: 500px;\n",
              "      }\n",
              "\n",
              "      pre.function-repr-contents.function-repr-contents-collapsed {\n",
              "        cursor: pointer;\n",
              "        max-height: 100px;\n",
              "      }\n",
              "    </style>\n",
              "    <pre style=\"white-space: initial; background:\n",
              "         var(--colab-secondary-surface-color); padding: 8px 12px;\n",
              "         border-bottom: 1px solid var(--colab-border-color);\"><b>Mortgage.get_interest</b><br/>def get_interest()</pre><pre class=\"function-repr-contents function-repr-contents-collapsed\" style=\"\"><a class=\"filepath\" style=\"display:none\" href=\"#\">/content/&lt;ipython-input-24-cc60ab1ac4d8&gt;</a>&lt;no docstring&gt;</pre></div>"
            ]
          },
          "metadata": {},
          "execution_count": 29
        }
      ]
    }
  ]
}