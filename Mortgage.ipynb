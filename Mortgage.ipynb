{
  "nbformat": 4,
  "nbformat_minor": 0,
  "metadata": {
    "colab": {
      "provenance": [],
      "authorship_tag": "ABX9TyMc0gCJ9XgaubLY5sfa8fCT",
      "include_colab_link": true
    },
    "kernelspec": {
      "name": "python3",
      "display_name": "Python 3"
    },
    "language_info": {
      "name": "python"
    }
  },
  "cells": [
    {
      "cell_type": "markdown",
      "metadata": {
        "id": "view-in-github",
        "colab_type": "text"
      },
      "source": [
        "<a href=\"https://colab.research.google.com/github/joeysacco9/Miami320/blob/main/Mortgage.ipynb\" target=\"_parent\"><img src=\"https://colab.research.google.com/assets/colab-badge.svg\" alt=\"Open In Colab\"/></a>"
      ]
    },
    {
      "cell_type": "code",
      "execution_count": null,
      "metadata": {
        "id": "oQreCiw6cxYy"
      },
      "outputs": [],
      "source": [
        "class Mortgage:\n",
        "  def __init__(self, amount, maturity, interest):\n",
        "    self.amount = amount\n",
        "    self.maturity = maturity\n",
        "    self.interest = interest\n",
        "\n",
        "  def __str__(self):\n",
        "    return f'Mortgage info: \\n Initial Loan Amount: {self.amount}  \\n + Maturity Term:  {self.maturity} \\n  Interest rate:  {self.interest}'\n",
        "\n",
        "\n",
        "\n",
        "  def get_interest(self):\n",
        "    return self.interest\n",
        "\n",
        "  def set_interest(self,newInterest):\n",
        "    if newInterest >= 0:\n",
        "      self.interest = newInterest\n",
        "    else:\n",
        "      print(\"Interest must be non-negative!\")\n",
        "\n",
        "\n",
        "  def payment(self):\n",
        "    term = 12*self.maturity\n",
        "    r = self.interest/100\n",
        "    return self.amount * (r * (1+ r) ** term) / ((1+r) ** term -1)"
      ]
    },
    {
      "cell_type": "code",
      "source": [
        "m = Mortgage(100000,30,6)\n"
      ],
      "metadata": {
        "id": "3dvCW6SOgQLr"
      },
      "execution_count": null,
      "outputs": []
    },
    {
      "cell_type": "code",
      "source": [
        "class A:\n",
        "  def __init__(self,item):\n",
        "    self.item = item\n",
        "  def whoAmI(self):\n",
        "    print(\"I am an instance of A\")\n",
        "\n",
        "class B:\n",
        "  def __init__(self,item):\n",
        "    self.item = item\n",
        "  def whoAmI(self):\n",
        "    print(\"I am an instance of B\")\n",
        "\n",
        "a= A(2)\n",
        "b= B(3)"
      ],
      "metadata": {
        "id": "CyPtKFiWRYLq"
      },
      "execution_count": null,
      "outputs": []
    },
    {
      "cell_type": "code",
      "source": [
        "b.whoAmI()"
      ],
      "metadata": {
        "colab": {
          "base_uri": "https://localhost:8080/"
        },
        "id": "WSA7C0T_Sz4V",
        "outputId": "cd1c1a4c-6cfb-4823-b468-63f37b68b631"
      },
      "execution_count": null,
      "outputs": [
        {
          "output_type": "stream",
          "name": "stdout",
          "text": [
            "I am an instance of B\n"
          ]
        }
      ]
    },
    {
      "cell_type": "code",
      "source": [
        "class Animal:\n",
        "  def __init__(self):\n",
        "    print(\"Animal Created\")\n",
        "  def whoAmI(self):\n",
        "    print(\"I am an animal\")\n",
        "\n",
        "class Bird(Animal):\n",
        "  def __init__(self):\n",
        "    print(\"Bird created\")\n",
        "  def fly(self):\n",
        "    print('Birds can fly')"
      ],
      "metadata": {
        "id": "lopuQcg3S4fu"
      },
      "execution_count": null,
      "outputs": []
    },
    {
      "cell_type": "code",
      "source": [
        "class Point:\n",
        "  def __init__(self, x, y):\n",
        "    self.x = x\n",
        "    self.y = y\n",
        "  def distance(self, other):\n",
        "    x_diff = (self.x - other.x) **2\n",
        "    y_diff = (self.y - other.y) **2\n",
        "    return (x_diff + y_diff) ** 0.5\n",
        "\n",
        "class Point3D(Point):\n",
        "  def __init__(self,x,y,z):\n",
        "    super().__init__(x,y)\n",
        "    self.z = z\n",
        "\n",
        "\n",
        "\n",
        "p1 = Point(3,4)\n",
        "p2 = Point(6,8)\n",
        "print(p1.distance(p2))"
      ],
      "metadata": {
        "colab": {
          "base_uri": "https://localhost:8080/"
        },
        "id": "HmlVJmxXaI3D",
        "outputId": "4ab2c4a6-7d87-48b9-ed8f-f6ae965ce034"
      },
      "execution_count": null,
      "outputs": [
        {
          "output_type": "stream",
          "name": "stdout",
          "text": [
            "5.0\n"
          ]
        }
      ]
    }
  ]
}