{
  "cells": [
    {
      "cell_type": "markdown",
      "metadata": {
        "id": "view-in-github",
        "colab_type": "text"
      },
      "source": [
        "<a href=\"https://colab.research.google.com/github/joeysacco9/Miami320/blob/main/calc.ipynb\" target=\"_parent\"><img src=\"https://colab.research.google.com/assets/colab-badge.svg\" alt=\"Open In Colab\"/></a>"
      ]
    },
    {
      "cell_type": "code",
      "execution_count": null,
      "metadata": {
        "id": "TkVjzJbgyLCw"
      },
      "outputs": [],
      "source": [
        "import random\n",
        "\n",
        "userinput = input(\"Do you want to play a game? Type y or n: \")\n",
        "\n",
        "while userinput == \"y\":\n",
        "\n",
        "  user_choice = input(\"Enter your choice (rock, paper, or scissors): \")\n",
        "  computer_choice = random.choice([\"rock\", \"paper\", \"scissors\"])\n",
        "\n",
        "  print(f\"You chose: {user_choice}\")\n",
        "  print(f\"Computer chose: {computer_choice}\")\n",
        "\n",
        "  if user_choice == computer_choice:\n",
        "    print(\"It's a tie!\")\n",
        "  elif (\n",
        "    (user_choice == \"rock\" and computer_choice == \"scissors\") or\n",
        "    (user_choice == \"paper\" and computer_choice == \"rock\") or\n",
        "    (user_choice == \"scissors\" and computer_choice == \"paper\")\n",
        "):\n",
        "    print(\"You win!\")\n",
        "  else:\n",
        "    print(\"Computer wins!\")\n",
        "\n",
        "  userinput = input(\"Do you want to play again? Type y or n: \")\n",
        "\n",
        "\n"
      ]
    },
    {
      "cell_type": "code",
      "execution_count": null,
      "metadata": {
        "colab": {
          "background_save": true,
          "base_uri": "https://localhost:8080/"
        },
        "id": "9dTdGZEw7SnV",
        "outputId": "dc7cb53b-9138-4aa1-d138-13f24e4d9f3d"
      },
      "outputs": [
        {
          "name": "stdout",
          "output_type": "stream",
          "text": [
            "Invalid operator: \\(\n"
          ]
        }
      ],
      "source": [
        "while True:\n",
        "  operator = input(\"Enter an operator: \")\n",
        "\n",
        "  if operator == \"break\":\n",
        "    break\n",
        "\n",
        "\n",
        "  number1 = float(input(\"Input a number: \"))\n",
        "  number2 = float(input(\"Input another number: \"))\n",
        "  if operator == \"+\":\n",
        "    print(f'{number1}+{number2} = {number1+number2} ')\n",
        "  elif operator == \"-\":\n",
        "    print(f'{number1}-{number2} = {number1-number2}')\n",
        "  elif operator == \"*\":\n",
        "    print(f'{number1}*{number2} = {number1*number2}')\n",
        "  elif operator == \"**\":\n",
        "    print(f'{number1}**{number2} = {number1**number2}')\n",
        "  elif operator == \"/\":\n",
        "    print(f'{number1}/{number2} = {number1/number2}')\n",
        "  elif operator == \"//\":\n",
        "    print(f'{number1}//{number2} = {number1//number2}')\n",
        "  elif operator == \"%\":\n",
        "    print(f'{number1}%{number2} = {number1%number2}')\n",
        "\n",
        "  else:\n",
        "    print(f'Invalid operator: \\{operator}')\n",
        "\n",
        "\n"
      ]
    },
    {
      "cell_type": "code",
      "execution_count": null,
      "metadata": {
        "id": "80QIR5pM4L1b"
      },
      "outputs": [],
      "source": [
        "s = \"This is a test\"\n",
        "s2 = \"This is another test!\"\n",
        "s2[20], s2[len(s2)-1], s2[-15]\n",
        "s2[8:15]\n",
        "s+ \"! \"+ s2\n",
        "for i in range(5):\n",
        "  print(i)\n",
        "for index in range(len(s2)):\n",
        "  print(s[index])\n",
        "\n",
        "\n",
        "\n",
        "\n"
      ]
    },
    {
      "cell_type": "markdown",
      "metadata": {
        "id": "7zCDD6iz4Mia"
      },
      "source": []
    },
    {
      "cell_type": "code",
      "source": [
        "date = input(\"Enter a date (MM/DD/YYYY): \")\n",
        "print(f'The month is {date[:2]}')\n",
        "print(f'The day is {date[3:5]}')\n",
        "print(f'The year is {date[6:]}')\n"
      ],
      "metadata": {
        "colab": {
          "base_uri": "https://localhost:8080/"
        },
        "id": "eQ0HtdT_7S56",
        "outputId": "24231184-92dd-4450-bb1e-a219e2c3671b"
      },
      "execution_count": 9,
      "outputs": [
        {
          "output_type": "stream",
          "name": "stdout",
          "text": [
            "Enter a date (MM/DD/YYYY): 03/20/2000\n",
            "The month is 03\n",
            "The day is 20\n",
            "The year is 2000\n"
          ]
        }
      ]
    }
  ],
  "metadata": {
    "colab": {
      "provenance": [],
      "authorship_tag": "ABX9TyNLaGac5XdKf9tL11sZjozW",
      "include_colab_link": true
    },
    "kernelspec": {
      "display_name": "Python 3",
      "name": "python3"
    },
    "language_info": {
      "name": "python"
    }
  },
  "nbformat": 4,
  "nbformat_minor": 0
}