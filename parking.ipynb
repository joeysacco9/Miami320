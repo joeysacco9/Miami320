{
  "nbformat": 4,
  "nbformat_minor": 0,
  "metadata": {
    "colab": {
      "provenance": [],
      "authorship_tag": "ABX9TyNHuoMSZJx4fgTVeXf2ZdeN",
      "include_colab_link": true
    },
    "kernelspec": {
      "name": "python3",
      "display_name": "Python 3"
    },
    "language_info": {
      "name": "python"
    }
  },
  "cells": [
    {
      "cell_type": "markdown",
      "metadata": {
        "id": "view-in-github",
        "colab_type": "text"
      },
      "source": [
        "<a href=\"https://colab.research.google.com/github/joeysacco9/Miami320/blob/main/parking.ipynb\" target=\"_parent\"><img src=\"https://colab.research.google.com/assets/colab-badge.svg\" alt=\"Open In Colab\"/></a>"
      ]
    },
    {
      "cell_type": "code",
      "execution_count": 8,
      "metadata": {
        "colab": {
          "base_uri": "https://localhost:8080/"
        },
        "id": "3HDv7-uIGulo",
        "outputId": "445b113e-3bb3-488c-eaa5-32b5d8d9806f"
      },
      "outputs": [
        {
          "output_type": "stream",
          "name": "stdout",
          "text": [
            "Enter number of hours: 55\n",
            "Total charge: $20\n"
          ]
        }
      ],
      "source": [
        "#use function input() to promt for the # of hours parked, return this value\n",
        "def getParkingHours():\n",
        "  return int(input(\"Enter number of hours: \"))\n",
        "\n",
        "\n",
        "#takes as input hours (a number), returns the parking fee\n",
        "def calcParkingFee(hours):\n",
        "  parkingfee = 2.5 * hours\n",
        "  if parkingfee <= 6:\n",
        "    return 6\n",
        "  elif parkingfee >= 20:\n",
        "    return 20\n",
        "  else:\n",
        "    return parkingfee\n",
        "\n",
        "hours = getParkingHours()\n",
        "fee = calcParkingFee(hours)\n",
        "print(f'Total charge: ${fee}')\n",
        "\n"
      ]
    }
  ]
}