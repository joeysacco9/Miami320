{
  "nbformat": 4,
  "nbformat_minor": 0,
  "metadata": {
    "colab": {
      "provenance": [],
      "authorship_tag": "ABX9TyN1LDjrQZ1QxM4frEvSOEbz",
      "include_colab_link": true
    },
    "kernelspec": {
      "name": "python3",
      "display_name": "Python 3"
    },
    "language_info": {
      "name": "python"
    }
  },
  "cells": [
    {
      "cell_type": "markdown",
      "metadata": {
        "id": "view-in-github",
        "colab_type": "text"
      },
      "source": [
        "<a href=\"https://colab.research.google.com/github/joeysacco9/Miami320/blob/main/Untitled0.ipynb\" target=\"_parent\"><img src=\"https://colab.research.google.com/assets/colab-badge.svg\" alt=\"Open In Colab\"/></a>"
      ]
    },
    {
      "cell_type": "code",
      "execution_count": 14,
      "metadata": {
        "colab": {
          "base_uri": "https://localhost:8080/"
        },
        "id": "CYG54GmPUqmw",
        "outputId": "8a415efd-7bbb-498a-accd-abd929c23123"
      },
      "outputs": [
        {
          "name": "stdout",
          "output_type": "stream",
          "text": [
            "Enter a value: 1\n",
            "Enter a value: 2\n",
            "[1]\n",
            "Enter a value: 3\n",
            "[1, 2]\n",
            "Enter a value: 0\n"
          ]
        }
      ],
      "source": [
        "L = []\n",
        "\n",
        "number = int(input('Enter a value: '))\n",
        "## asks for new numerical inputs which are appended to end of the list, until the user inputs 0 then it terminates\n",
        "\n",
        "while True:\n",
        "  if number !=0:\n",
        "    L.append(number)\n",
        "    number = int(input('Enter a value: '))\n",
        "\n",
        "  if number ==0:\n",
        "    break\n",
        "  print(L)\n",
        "\n"
      ]
    }
  ]
}