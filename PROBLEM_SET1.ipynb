{
  "nbformat": 4,
  "nbformat_minor": 0,
  "metadata": {
    "colab": {
      "provenance": [],
      "authorship_tag": "ABX9TyOWA8Wh0+pN6Sjyh4hK6bo6",
      "include_colab_link": true
    },
    "kernelspec": {
      "name": "python3",
      "display_name": "Python 3"
    },
    "language_info": {
      "name": "python"
    }
  },
  "cells": [
    {
      "cell_type": "markdown",
      "metadata": {
        "id": "view-in-github",
        "colab_type": "text"
      },
      "source": [
        "<a href=\"https://colab.research.google.com/github/joeysacco9/Miami320/blob/main/PROBLEM_SET1.ipynb\" target=\"_parent\"><img src=\"https://colab.research.google.com/assets/colab-badge.svg\" alt=\"Open In Colab\"/></a>"
      ]
    },
    {
      "cell_type": "code",
      "execution_count": null,
      "metadata": {
        "id": "3Tm0Sej2NALi"
      },
      "outputs": [],
      "source": [
        "def getValues(n):\n",
        "  weights = []\n",
        "  for i in range(n):\n",
        "    weight=float(input(\"Enter a weight: \"))\n",
        "    weights.append(weight)\n",
        "\n",
        "    return weights[2:]\n",
        "\n",
        "  def calcAverage(alist):\n",
        "    return sum(alist) / len(alist)"
      ]
    },
    {
      "cell_type": "code",
      "source": [
        "n_weights = int(input('Enter number of weights: '))\n",
        "L=getValues(n_weights)\n",
        "avg = calcAverage(L)\n",
        "print(avg)"
      ],
      "metadata": {
        "id": "HOemQb_LNmVN"
      },
      "execution_count": null,
      "outputs": []
    },
    {
      "cell_type": "code",
      "source": [],
      "metadata": {
        "id": "kFBl6_xpXJOZ"
      },
      "execution_count": null,
      "outputs": []
    },
    {
      "cell_type": "code",
      "source": [
        "allData = { # dictionary of values for countries\n",
        "    'US': {'pop':325.7, 'gdp': 19.39, 'ccy': 'USD', 'fx':  1.0},\n",
        "    'CA': {'pop': 36.5, 'gdp':  1.65, 'ccy': 'CAD', 'fx':  1.35},\n",
        "    'MX': {'pop':129.2, 'gdp':  1.15, 'ccy': 'MXN', 'fx': 19.68}\n",
        "    }\n",
        "\n",
        "while True:\n",
        "  country_code=input(\"Enter a country code (US, CA, MX): \")\n",
        "  if country_code not in allData:\n",
        "        print(\"Invalid country code. Please enter either US, CA, or MX.\")\n",
        "        continue\n",
        "\n",
        "  statistic = input(\"Enter a statistic (pop, gdp, ccy, or fx): \").lower()\n",
        "  if statistic not in allData[country_code]:\n",
        "        print(\"Invalid statistic. Please enter either pop, gdp, ccy, or fx.\")\n",
        "        continue\n",
        "\n",
        "  value = allData[country_code][statistic]\n",
        "  print(f\"{country_code} {statistic} = {value}\")\n",
        "  break"
      ],
      "metadata": {
        "id": "QGDJpDVMTtBD"
      },
      "execution_count": null,
      "outputs": []
    },
    {
      "cell_type": "code",
      "source": [
        "#use function input() to promt for the # of hours parked, return this value\n",
        "def getParkingHours():\n",
        "  return int(input(\"Enter number of hours: \"))\n",
        "\n",
        "\n",
        "#takes as input hours (a number), returns the parking fee\n",
        "def calcParkingFee(hours):\n",
        "  parkingfee = 2.5 * hours\n",
        "  if parkingfee <= 6:\n",
        "    return 6\n",
        "  elif parkingfee >= 20:\n",
        "    return 20\n",
        "  else:\n",
        "    return parkingfee\n",
        "\n",
        "hours = getParkingHours()\n",
        "fee = calcParkingFee(hours)\n",
        "print(f'Total charge: ${fee}')"
      ],
      "metadata": {
        "id": "9qZ9KCR1TlEk"
      },
      "execution_count": null,
      "outputs": []
    },
    {
      "cell_type": "code",
      "source": [
        "def calcTuition(credits):\n",
        "  if credits >= 12:\n",
        "    print(f\"The tuition is $20,000\")\n",
        "  elif credits <12 and credits >=1:\n",
        "    print(f'Tuition = {1200 + 1700 * credits}$')\n",
        "  else:\n",
        "    print(f'Invalid number of credits: {credits}')\n",
        "\n",
        "  credits = int(input(\"Enter the number of credits: \"))\n",
        "  calcTuition(credits)\n",
        "\n",
        "\n",
        "\n"
      ],
      "metadata": {
        "id": "0tCI2AFSXLk-"
      },
      "execution_count": null,
      "outputs": []
    }
  ]
}