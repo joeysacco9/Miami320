{
  "cells": [
    {
      "cell_type": "markdown",
      "metadata": {
        "id": "view-in-github",
        "colab_type": "text"
      },
      "source": [
        "<a href=\"https://colab.research.google.com/github/joeysacco9/Miami320/blob/main/BTE.ipynb\" target=\"_parent\"><img src=\"https://colab.research.google.com/assets/colab-badge.svg\" alt=\"Open In Colab\"/></a>"
      ]
    },
    {
      "cell_type": "code",
      "execution_count": null,
      "metadata": {
        "id": "TkVjzJbgyLCw"
      },
      "outputs": [],
      "source": [
        " import random\n",
        "\n",
        "userinput = input(\"Do you want to play a game? Type y or n: \")\n",
        "\n",
        "while userinput == \"y\":\n",
        "\n",
        "  user_choice = input(\"Enter your choice (rock, paper, or scissors): \")\n",
        "  computer_choice = random.choice([\"rock\", \"paper\", \"scissors\"])\n",
        "\n",
        "  print(f\"You chose: {user_choice}\")\n",
        "  print(f\"Computer chose: {computer_choice}\")\n",
        "\n",
        "  if user_choice == computer_choice:\n",
        "    print(\"It's a tie!\")\n",
        "  elif (\n",
        "    (user_choice == \"rock\" and computer_choice == \"scissors\") or\n",
        "    (user_choice == \"paper\" and computer_choice == \"rock\") or\n",
        "    (user_choice == \"scissors\" and computer_choice == \"paper\")\n",
        "):\n",
        "    print(\"You win!\")\n",
        "  else:\n",
        "    print(\"Computer wins!\")\n",
        "\n",
        "  userinput = input(\"Do you want to play again? Type y or n: \")\n",
        "\n",
        "\n"
      ]
    },
    {
      "cell_type": "markdown",
      "source": [],
      "metadata": {
        "id": "tJi2AB5DEqO2"
      }
    },
    {
      "cell_type": "code",
      "source": [],
      "metadata": {
        "id": "gzw_SggX51z6"
      },
      "execution_count": null,
      "outputs": []
    },
    {
      "cell_type": "markdown",
      "source": [],
      "metadata": {
        "id": "HbwYczqS89uO"
      }
    },
    {
      "cell_type": "code",
      "source": [],
      "metadata": {
        "id": "Obd-yMyK8_cP"
      },
      "execution_count": null,
      "outputs": []
    },
    {
      "cell_type": "code",
      "execution_count": null,
      "metadata": {
        "colab": {
          "background_save": true,
          "base_uri": "https://localhost:8080/"
        },
        "id": "9dTdGZEw7SnV",
        "outputId": "dc7cb53b-9138-4aa1-d138-13f24e4d9f3d"
      },
      "outputs": [
        {
          "name": "stdout",
          "output_type": "stream",
          "text": [
            "Invalid operator: \\(\n"
          ]
        }
      ],
      "source": [
        "while True:\n",
        "  operator = input(\"Enter an operator: \")\n",
        "\n",
        "  if operator == \"break\":\n",
        "    break\n",
        "\n",
        "\n",
        "  number1 = float(input(\"Input a number: \"))\n",
        "  number2 = float(input(\"Input another number: \"))\n",
        "  if operator == \"+\":\n",
        "    print(f'{number1}+{number2} = {number1+number2} ')\n",
        "  elif operator == \"-\":\n",
        "    print(f'{number1}-{number2} = {number1-number2}')\n",
        "  elif operator == \"*\":\n",
        "    print(f'{number1}*{number2} = {number1*number2}')\n",
        "  elif operator == \"**\":\n",
        "    print(f'{number1}**{number2} = {number1**number2}')\n",
        "  elif operator == \"/\":\n",
        "    print(f'{number1}/{number2} = {number1/number2}')\n",
        "  elif operator == \"//\":\n",
        "    print(f'{number1}//{number2} = {number1//number2}')\n",
        "  elif operator == \"%\":\n",
        "    print(f'{number1}%{number2} = {number1%number2}')\n",
        "\n",
        "  else:\n",
        "    print(f'Invalid operator: \\{operator}')\n",
        "\n",
        "\n"
      ]
    },
    {
      "cell_type": "code",
      "execution_count": null,
      "metadata": {
        "id": "80QIR5pM4L1b"
      },
      "outputs": [],
      "source": [
        "s = \"This is a test\"\n",
        "s2 = \"This is another test!\"\n",
        "s2[20], s2[len(s2)-1], s2[-15]\n",
        "s2[8:15]\n",
        "s+ \"! \"+ s2\n",
        "for i in range(5):\n",
        "  print(i)\n",
        "for index in range(len(s2)):\n",
        "  print(s[index])\n",
        "\n",
        "\n",
        "\n",
        "\n"
      ]
    },
    {
      "cell_type": "markdown",
      "metadata": {
        "id": "7zCDD6iz4Mia"
      },
      "source": []
    },
    {
      "cell_type": "code",
      "source": [
        "date = input(\"Enter a date (MM/DD/YYYY): \")\n",
        "print(f'The month is {date[:2]}')\n",
        "print(f'The day is {date[3:5]}')\n",
        "print(f'The year is {date[6:]}')\n"
      ],
      "metadata": {
        "colab": {
          "base_uri": "https://localhost:8080/"
        },
        "id": "eQ0HtdT_7S56",
        "outputId": "24231184-92dd-4450-bb1e-a219e2c3671b"
      },
      "execution_count": null,
      "outputs": [
        {
          "output_type": "stream",
          "name": "stdout",
          "text": [
            "Enter a date (MM/DD/YYYY): 03/20/2000\n",
            "The month is 03\n",
            "The day is 20\n",
            "The year is 2000\n"
          ]
        }
      ]
    },
    {
      "cell_type": "code",
      "source": [
        "L = [1, 'two', 3.0, print, [5,7,9]]\n",
        "L[3]='b'\n",
        "for element in L:\n",
        "  print(element)\n",
        "\n",
        "\n"
      ],
      "metadata": {
        "colab": {
          "base_uri": "https://localhost:8080/"
        },
        "id": "73fwvGWF9CEz",
        "outputId": "4f9ae289-2cd5-4003-f5c0-55e70afd86cb"
      },
      "execution_count": null,
      "outputs": [
        {
          "output_type": "stream",
          "name": "stdout",
          "text": [
            "1\n",
            "two\n",
            "3.0\n",
            "b\n",
            "[5, 7, 9]\n"
          ]
        }
      ]
    },
    {
      "cell_type": "code",
      "source": [
        "s = 'two'\n",
        "s[2]='b'\n",
        "# cannot do that because string does not support item assingnment^\n",
        "# you can modify a list, though."
      ],
      "metadata": {
        "id": "2nd61Y0IBQuq"
      },
      "execution_count": null,
      "outputs": []
    },
    {
      "cell_type": "markdown",
      "source": [],
      "metadata": {
        "id": "Os9QfqjqAFYg"
      }
    },
    {
      "cell_type": "code",
      "source": [
        "L= [1, 'two', 3.0, print, [5,7,9]]\n",
        "len(L)\n",
        "L+['three']\n",
        "L.extend('joey')\n",
        "L\n"
      ],
      "metadata": {
        "colab": {
          "base_uri": "https://localhost:8080/"
        },
        "id": "DuYnOy3PPo2C",
        "outputId": "c7899bd3-d95e-48a4-9807-e3ae6a0b0c95"
      },
      "execution_count": null,
      "outputs": [
        {
          "output_type": "execute_result",
          "data": {
            "text/plain": [
              "[1, 'two', 3.0, <function print>, [5, 7, 9], 'j', 'o', 'e', 'y']"
            ]
          },
          "metadata": {},
          "execution_count": 11
        }
      ]
    },
    {
      "cell_type": "code",
      "source": [
        "#keys in dictionaries are always unique\n",
        "#keys have to be of an immutable type\n",
        "#numbers, booleans, strings, and tuples are valid object types for keys in a dictionary\n",
        "\n",
        "\n",
        "grades = {\n",
        "    'Alice': 91,\n",
        "    'Bob':88,\n",
        "    'Tracy': 93,\n",
        "    'Erik':90\n",
        "}\n",
        "grades['Alice']=95\n",
        "grades"
      ],
      "metadata": {
        "colab": {
          "base_uri": "https://localhost:8080/"
        },
        "id": "42Hv8_sO_4tE",
        "outputId": "8199bd0d-0b84-45ff-c861-e5dc90d40f73"
      },
      "execution_count": null,
      "outputs": [
        {
          "output_type": "execute_result",
          "data": {
            "text/plain": [
              "{'Alice': 95, 'Bob': 88, 'Tracy': 93, 'Erik': 90}"
            ]
          },
          "metadata": {},
          "execution_count": 11
        }
      ]
    },
    {
      "cell_type": "code",
      "source": [
        "\n",
        "grades.values()"
      ],
      "metadata": {
        "colab": {
          "base_uri": "https://localhost:8080/"
        },
        "id": "9dvFRWufBemH",
        "outputId": "fa442348-cdcf-478a-d0a0-c3edb243a383"
      },
      "execution_count": null,
      "outputs": [
        {
          "output_type": "execute_result",
          "data": {
            "text/plain": [
              "dict_values([95, 88, 93, 90])"
            ]
          },
          "metadata": {},
          "execution_count": 12
        }
      ]
    },
    {
      "cell_type": "code",
      "source": [
        "grades.keys()"
      ],
      "metadata": {
        "colab": {
          "base_uri": "https://localhost:8080/"
        },
        "id": "uMEk8D6tC-Jg",
        "outputId": "62069a98-61be-4b62-e18b-e45e1f930244"
      },
      "execution_count": null,
      "outputs": [
        {
          "output_type": "execute_result",
          "data": {
            "text/plain": [
              "dict_keys(['Alice', 'Bob', 'Tracy', 'Erik'])"
            ]
          },
          "metadata": {},
          "execution_count": 13
        }
      ]
    },
    {
      "cell_type": "code",
      "source": [
        "def addnum(a,b):\n",
        "  bob = a + b\n",
        "  bob_sq = bob **2\n",
        "  return bob, bob_sq\n",
        "\n",
        "x = 6\n",
        "y = 5\n",
        "c = addnum(x,y)\n",
        "print(c)\n",
        "print (c[1])"
      ],
      "metadata": {
        "colab": {
          "base_uri": "https://localhost:8080/"
        },
        "id": "-7-QFI9z53jO",
        "outputId": "41c45fc0-eb4d-4c97-c21b-93e206973d05"
      },
      "execution_count": null,
      "outputs": [
        {
          "output_type": "stream",
          "name": "stdout",
          "text": [
            "(11, 121)\n",
            "121\n"
          ]
        }
      ]
    },
    {
      "cell_type": "code",
      "source": [
        "def example():\n",
        "  print(\"This is an example\")\n",
        "  return\n",
        "\n",
        "name = example()\n",
        "print(name)\n",
        "#when you see \"none\" after the function code it means ...\n"
      ],
      "metadata": {
        "colab": {
          "base_uri": "https://localhost:8080/"
        },
        "id": "oVTAxGD48LsC",
        "outputId": "0f3608b4-cb9a-41ab-8e9e-3e2b3856d5b6"
      },
      "execution_count": null,
      "outputs": [
        {
          "output_type": "stream",
          "name": "stdout",
          "text": [
            "This is an example\n",
            "None\n"
          ]
        }
      ]
    },
    {
      "cell_type": "code",
      "source": [
        "#use function input() to promt for the # of hours parked, return this value\n",
        "def getParkingHours():\n",
        "  return int(input(\"Enter number of hours: \"))\n",
        "\n",
        "\n",
        "#takes as input hours (a number), returns the parking fee\n",
        "def calcParkingFee(hours):\n",
        "  parkingfee = 2.5 * hours\n",
        "  if parkingfee <= 6:\n",
        "    return 6\n",
        "  elif parkingfee >= 20:\n",
        "    return 20\n",
        "  else:\n",
        "    return parkingfee\n",
        "\n",
        "hours = getParkingHours()\n",
        "fee = calcParkingFee(hours)\n",
        "print(f'Total charge: ${fee}')\n"
      ],
      "metadata": {
        "id": "X6wjq98eRB7-"
      },
      "execution_count": null,
      "outputs": []
    },
    {
      "cell_type": "code",
      "source": [
        "while True:\n",
        "  country_code = input('Enter a country code (or type exit if you want to stop): ')\n",
        "  if country_code == \"exit\":\n",
        "    break\n",
        "  if country_code not in allData.keys():\n",
        "    print('This country code does not exist. ')\n",
        "    continue"
      ],
      "metadata": {
        "id": "oVUAk20EV0u3"
      },
      "execution_count": null,
      "outputs": []
    },
    {
      "cell_type": "code",
      "source": [
        "def f(x): #name x used as formal parameter\n",
        "  y = 1\n",
        "  x = x + y\n",
        "  print('x =', x)\n",
        "  return x\n",
        "\n",
        "x = 3\n",
        "y = 2\n",
        "z = f(x) #value of x used as actual parameter\n",
        "print('z =',z)\n",
        "print('x =',x)\n",
        "print('y =' ,y)\n",
        "#lecture 5 on blackboard"
      ],
      "metadata": {
        "colab": {
          "base_uri": "https://localhost:8080/"
        },
        "id": "oK-yb2iG-fUZ",
        "outputId": "0ee7a7e5-92f9-4a1e-cfe8-63cb86164896"
      },
      "execution_count": null,
      "outputs": [
        {
          "output_type": "stream",
          "name": "stdout",
          "text": [
            "x = 4\n",
            "z = 4\n",
            "x = 3\n",
            "y = 2\n"
          ]
        }
      ]
    },
    {
      "cell_type": "code",
      "source": [
        "def calcTuition(credits):\n",
        "  if credits >= 12:\n",
        "    print(f\"The tuition is $20,000\")\n",
        "  elif credits <12 and credits >=1:\n",
        "    print(f'Tuition = {1200 + 1700 * credits}$')\n",
        "  else:\n",
        "    print(f'Invalid number of credits: {credits}')\n",
        "\n",
        "  credits = int(input(\"Enter the number of credits: \"))\n",
        "  calcTuition(credits)\n",
        "\n",
        "\n"
      ],
      "metadata": {
        "id": "c6vc-RyWZUKx"
      },
      "execution_count": null,
      "outputs": []
    },
    {
      "cell_type": "code",
      "source": [
        "def countdown(n):\n",
        "  for i in range(n,-1,-1):\n",
        "    print(i)\n",
        "\n",
        "countdown(5)"
      ],
      "metadata": {
        "colab": {
          "base_uri": "https://localhost:8080/"
        },
        "id": "GTsPUUWD97Il",
        "outputId": "37d669c2-dca9-41be-a9d7-31577a1a7e83"
      },
      "execution_count": null,
      "outputs": [
        {
          "output_type": "stream",
          "name": "stdout",
          "text": [
            "5\n",
            "4\n",
            "3\n",
            "2\n",
            "1\n",
            "0\n"
          ]
        }
      ]
    },
    {
      "cell_type": "code",
      "source": [
        "def recursive_countdown(n):\n",
        "  if n == 0:\n",
        "    print(0)\n",
        "  else:\n",
        "    print(n)\n",
        "    recursive_countdown(n-1)\n",
        "\n",
        "recursive_countdown(5)"
      ],
      "metadata": {
        "colab": {
          "base_uri": "https://localhost:8080/"
        },
        "id": "wioOBFHbAnhA",
        "outputId": "cfd18129-b740-45ec-a50d-e04cd52e148b"
      },
      "execution_count": null,
      "outputs": [
        {
          "output_type": "stream",
          "name": "stdout",
          "text": [
            "5\n",
            "4\n",
            "3\n",
            "2\n",
            "1\n",
            "0\n"
          ]
        }
      ]
    },
    {
      "cell_type": "code",
      "source": [
        "def summation(n):\n",
        "  s = 0\n",
        "  while n>=0:\n",
        "    s = s + n\n",
        "    n = n - 1\n",
        "\n",
        "  return s\n",
        "\n",
        "summation(3)"
      ],
      "metadata": {
        "colab": {
          "base_uri": "https://localhost:8080/"
        },
        "id": "IHGfEJ5wEv_C",
        "outputId": "e9455e89-12bf-4ccc-d4ea-2932f13f17ec"
      },
      "execution_count": null,
      "outputs": [
        {
          "output_type": "execute_result",
          "data": {
            "text/plain": [
              "6"
            ]
          },
          "metadata": {},
          "execution_count": 9
        }
      ]
    },
    {
      "cell_type": "code",
      "source": [
        "def factR(n):\n",
        "  if n==1:\n",
        "    return 1\n",
        "  else:\n",
        "    return n*factR(n-1)\n",
        "\n",
        "factR(5)"
      ],
      "metadata": {
        "colab": {
          "base_uri": "https://localhost:8080/"
        },
        "id": "3qaOfUwAKd2u",
        "outputId": "85ea2443-e2e7-4259-ad6d-98c975c3ae34"
      },
      "execution_count": null,
      "outputs": [
        {
          "output_type": "execute_result",
          "data": {
            "text/plain": [
              "120"
            ]
          },
          "metadata": {},
          "execution_count": 11
        }
      ]
    },
    {
      "cell_type": "code",
      "source": [
        "try:\n",
        "  a = float(input('Enter the numerator: '))\n",
        "  b = float(input('Enter the denominator: '))\n",
        "  print(a/b)\n",
        "  print(\"Division complete\")\n",
        "except ZeroDivisonError:\n",
        "  print('Divison by zero not allowed!')\n",
        "except ValueError:\n",
        "  print(\"Invalid Input!\")\n",
        "except:\n",
        "  print(\"Unknown error...\")\n",
        "\n",
        "print(\"Program ends\")"
      ],
      "metadata": {
        "colab": {
          "base_uri": "https://localhost:8080/"
        },
        "id": "EVnFgxxREttb",
        "outputId": "41d761fb-0b69-445d-80e9-431550878ff8"
      },
      "execution_count": null,
      "outputs": [
        {
          "output_type": "stream",
          "name": "stdout",
          "text": [
            "Enter the numerator: abc\n",
            "Error occurred!\n",
            "Program ends\n"
          ]
        }
      ]
    },
    {
      "cell_type": "code",
      "source": [
        "l = [1,3,5,7,9]\n",
        "\n",
        "try:\n",
        "  idx = float(input('Enter index: '))\n",
        "  print(l[idx])\n",
        "except IndexError:\n",
        "  print(\"Index value is out of bounds!\")\n",
        "except TypeError:\n",
        "  print(\"Indexes must be int\")"
      ],
      "metadata": {
        "id": "ndCa3P_JIcoe"
      },
      "execution_count": null,
      "outputs": []
    },
    {
      "cell_type": "code",
      "source": [
        "def avg(alist)\n",
        "  try:\n",
        "    return sum(alist)/len(alist)\n",
        "  except ZeroDivisionError:\n",
        "    print(\"The list is empty!\")\n",
        "    return\n",
        "  except TypeError:\n",
        "    print(\"The list is not purely numerical!\")\n",
        "    return float('nan')\n"
      ],
      "metadata": {
        "id": "w3VsGjJjJ39e"
      },
      "execution_count": null,
      "outputs": []
    },
    {
      "cell_type": "code",
      "source": [
        "#else block executed only if none of the except blocks execute\n",
        "\n",
        "#remember try and except"
      ],
      "metadata": {
        "id": "mm_DVnjMU7qU"
      },
      "execution_count": null,
      "outputs": []
    },
    {
      "cell_type": "code",
      "source": [
        "class Vehicle:\n",
        "  # This is the constructor method; used to initialize the\n",
        "  # attributes (aka data) of class instances (aka objects)\n",
        "  def __init__(self, n_wheels, n_seats, engine, pedals, dims):\n",
        "    # setting up (initializing) attributes //// \"self\" is always  first parameter\n",
        "    self.n_wheels = n_wheels\n",
        "    self.n_seats = n_seats\n",
        "    self.engine = engine\n",
        "    self.pedals = pedals\n",
        "    self.dims = dims\n",
        "    self.model = None\n",
        "\n",
        "  def acc(self):\n",
        "    print(\"The vehicle is accelerating\")\n",
        "\n",
        "  def dec(self):\n",
        "    print(\"The vehicle is decelerating\")"
      ],
      "metadata": {
        "id": "79CqooRNMBR_"
      },
      "execution_count": null,
      "outputs": []
    },
    {
      "cell_type": "code",
      "source": [
        "v = Vehicle(4,4,'ICE',3,[1,2,3])\n",
        "v.acc()"
      ],
      "metadata": {
        "colab": {
          "base_uri": "https://localhost:8080/"
        },
        "id": "va7yrHLpQCWp",
        "outputId": "79276606-57fe-4607-b25c-750a54d54216"
      },
      "execution_count": null,
      "outputs": [
        {
          "output_type": "stream",
          "name": "stdout",
          "text": [
            "The vehicle is accelerating\n"
          ]
        }
      ]
    },
    {
      "cell_type": "code",
      "source": [
        "class Car:\n",
        "  def __init__(self, make, model, year):\n",
        "    self.make = make\n",
        "    self.model = model\n",
        "    self.year = year\n",
        "    self.utility = 'SUV'\n",
        "\n",
        "  def accelerate(self):\n",
        "    print(f'The {self.make} accelerates.')"
      ],
      "metadata": {
        "id": "3EiQBklkYEgR"
      },
      "execution_count": null,
      "outputs": []
    },
    {
      "cell_type": "code",
      "source": [
        "c = Car('Ford',150,'2023')\n",
        "d = Car('VW',300,'2020')"
      ],
      "metadata": {
        "id": "BD8KM3YEZYAb"
      },
      "execution_count": null,
      "outputs": []
    },
    {
      "cell_type": "code",
      "source": [
        "d.accelerate()"
      ],
      "metadata": {
        "colab": {
          "base_uri": "https://localhost:8080/"
        },
        "id": "QHmMIDSoaoFm",
        "outputId": "16aad331-d065-41c7-f449-082f9f91538f"
      },
      "execution_count": null,
      "outputs": [
        {
          "output_type": "stream",
          "name": "stdout",
          "text": [
            "The VW accelerates.\n"
          ]
        }
      ]
    },
    {
      "cell_type": "code",
      "source": [
        "d.model"
      ],
      "metadata": {
        "id": "UgNGlkhYb6Mj",
        "outputId": "ae4f25d8-de83-4b62-8a2c-838e5cd940ca",
        "colab": {
          "base_uri": "https://localhost:8080/"
        }
      },
      "execution_count": null,
      "outputs": [
        {
          "output_type": "execute_result",
          "data": {
            "text/plain": [
              "300"
            ]
          },
          "metadata": {},
          "execution_count": 20
        }
      ]
    },
    {
      "cell_type": "code",
      "source": [
        "print(f'Ad$ Profit')\n",
        "\n",
        "init_attendees = 20\n",
        "fixed_cost = 200\n",
        "\n",
        "for advertising in range (0,201,25):\n",
        "  ad = float(advertising)\n",
        "  attendees = float(2*round(advertising**0.5)) + init_attendees\n",
        "  profit = float((attendees * 10) - advertising - fixed_cost)\n",
        "  print(f'{ad} ${profit}')"
      ],
      "metadata": {
        "id": "PuBGyJuM6bZV"
      },
      "execution_count": null,
      "outputs": []
    },
    {
      "cell_type": "code",
      "source": [],
      "metadata": {
        "id": "nwj2QFEr2WQ1"
      },
      "execution_count": null,
      "outputs": []
    },
    {
      "cell_type": "code",
      "source": [
        "months = {}\n",
        "\n",
        "numbers = [1,2,3,4,5,6,7,8,9,10,11,12]\n",
        "names = ['January', 'February', 'March','April','May','June','July','August','September','October','November','December']\n",
        "\n",
        "for i in range(len(numbers)):\n",
        "  months[numbers[i]]=names[i]\n",
        "\n",
        "print(months)"
      ],
      "metadata": {
        "id": "6s_8QQyQzWVz"
      },
      "execution_count": null,
      "outputs": []
    },
    {
      "cell_type": "code",
      "source": [
        "List = []\n",
        "while True:\n",
        "  userinput = int(input('Enter an integer to append to the list: '))\n",
        "  if userinput == 0:\n",
        "    break\n",
        "  List.append(userinput)\n",
        "  print(f'Here is your current list: {List}')\n",
        "\n",
        "print(f'Here is your list: {List}')"
      ],
      "metadata": {
        "id": "LHEZy5yezY74"
      },
      "execution_count": null,
      "outputs": []
    },
    {
      "cell_type": "code",
      "source": [
        "while True:\n",
        "  operator = input(\"Enter an operator: \")\n",
        "\n",
        "  if operator == \"break\":\n",
        "    break\n",
        "\n",
        "\n",
        "  number1 = float(input(\"Input a number: \"))\n",
        "  number2 = float(input(\"Input another number: \"))\n",
        "  if operator == \"+\":\n",
        "    print(f'{number1}+{number2} = {number1+number2} ')\n",
        "  elif operator == \"-\":\n",
        "    print(f'{number1}-{number2} = {number1-number2}')\n",
        "  elif operator == \"*\":\n",
        "    print(f'{number1}*{number2} = {number1*number2}')\n",
        "  elif operator == \"**\":\n",
        "    print(f'{number1}**{number2} = {number1**number2}')\n",
        "  elif operator == \"/\":\n",
        "    print(f'{number1}/{number2} = {number1/number2}')\n",
        "  elif operator == \"//\":\n",
        "    print(f'{number1}//{number2} = {number1//number2}')\n",
        "  elif operator == \"%\":\n",
        "    print(f'{number1}%{number2} = {number1%number2}')\n",
        "\n",
        "  else:\n",
        "    print(f'Invalid operator: \\{operator}')"
      ],
      "metadata": {
        "id": "y8UHkvr5zcZn"
      },
      "execution_count": null,
      "outputs": []
    },
    {
      "cell_type": "code",
      "source": [
        "import random\n",
        "\n",
        "userinput = input(\"Do you want to play a game? Type y or n: \")\n",
        "\n",
        "while userinput == \"y\":\n",
        "\n",
        "  user_choice = input(\"Enter your choice (rock, paper, or scissors): \")\n",
        "  computer_choice = random.choice([\"rock\", \"paper\", \"scissors\"])\n",
        "\n",
        "  print(f\"You chose: {user_choice}\")\n",
        "  print(f\"Computer chose: {computer_choice}\")\n",
        "\n",
        "  if user_choice == computer_choice:\n",
        "    print(\"It's a tie!\")\n",
        "  elif (\n",
        "    (user_choice == \"rock\" and computer_choice == \"scissors\") or\n",
        "    (user_choice == \"paper\" and computer_choice == \"rock\") or\n",
        "    (user_choice == \"scissors\" and computer_choice == \"paper\")\n",
        "):\n",
        "    print(\"You win!\")\n",
        "  else:\n",
        "    print(\"Computer wins!\")\n",
        "\n",
        "  userinput = input(\"Do you want to play again? Type y or n: \")\n"
      ],
      "metadata": {
        "id": "mcvqrVbnzfLg"
      },
      "execution_count": null,
      "outputs": []
    },
    {
      "cell_type": "code",
      "source": [
        "def getParkingHours():\n",
        "  return int(input(\"Enter number of hours: \"))\n",
        "\n",
        "\n",
        "#takes as input hours (a number), returns the parking fee\n",
        "def calcParkingFee(hours):\n",
        "  parkingfee = 2.5 * hours\n",
        "  if parkingfee <= 6:\n",
        "    return 6\n",
        "  elif parkingfee >= 20:\n",
        "    return 20\n",
        "  else:\n",
        "    return parkingfee\n",
        "\n",
        "hours = getParkingHours()\n",
        "fee = calcParkingFee(hours)\n",
        "print(f'Total charge: ${fee}')"
      ],
      "metadata": {
        "id": "xafhB67UziLG"
      },
      "execution_count": null,
      "outputs": []
    },
    {
      "cell_type": "code",
      "source": [
        "Name = input(\"Hi, please enter your name: \")\n",
        "Customer_type = input(\"Enter customer type (n: new, e: existing): \")\n",
        "Deposit = float(input(\"Enter deposit amount : $\"))\n",
        "\n",
        "if Customer_type == \"n\":\n",
        "  Interest = 0.03\n",
        "else:\n",
        "  if Deposit<=1000:\n",
        "    Interest=float(0.03)\n",
        "  elif Deposit <= 10000:\n",
        "    Interest=float(0.0325)\n",
        "  elif Deposit >10000:\n",
        "    Interest = float(0.035)\n",
        "\n",
        "Amount = (1+Interest) * Deposit\n",
        "print(f'{Name}, you will have ${round(Amount,2)} in your account!')\n"
      ],
      "metadata": {
        "id": "grfx1086zkzi"
      },
      "execution_count": null,
      "outputs": []
    },
    {
      "cell_type": "code",
      "source": [
        "date = input(\"Enter a date (MM/DD/YYYY): \")\n",
        "print(f'The month is {date[:2]}')\n",
        "print(f'The day is {date[3:5]}')\n",
        "print(f'The year is {date[6:]}')"
      ],
      "metadata": {
        "id": "RcmjqM_VzowD"
      },
      "execution_count": null,
      "outputs": []
    },
    {
      "cell_type": "code",
      "source": [
        "def getValues(n):\n",
        "  weights = []\n",
        "  for i in range(n):\n",
        "    weight=float(input(\"Enter a weight: \"))\n",
        "    weights.append(weight)\n",
        "\n",
        "    return weights[2:]\n",
        "\n",
        "  def calcAverage(alist):\n",
        "    return sum(alist) / len(alist)"
      ],
      "metadata": {
        "id": "wL6ahGcu01EP"
      },
      "execution_count": null,
      "outputs": []
    },
    {
      "cell_type": "code",
      "source": [
        "n_weights = int(input('Enter number of weights: '))\n",
        "L=getValues(n_weights)\n",
        "avg = calcAverage(L)\n",
        "print(avg)"
      ],
      "metadata": {
        "id": "5yGe1t_O03Jo"
      },
      "execution_count": null,
      "outputs": []
    },
    {
      "cell_type": "code",
      "source": [
        "allData = { # dictionary of values for countries\n",
        "    'US': {'pop':325.7, 'gdp': 19.39, 'ccy': 'USD', 'fx':  1.0},\n",
        "    'CA': {'pop': 36.5, 'gdp':  1.65, 'ccy': 'CAD', 'fx':  1.35},\n",
        "    'MX': {'pop':129.2, 'gdp':  1.15, 'ccy': 'MXN', 'fx': 19.68}\n",
        "    }\n",
        "\n",
        "while True:\n",
        "  country_code=input(\"Enter a country code (US, CA, MX): \")\n",
        "  if country_code not in allData:\n",
        "        print(\"Invalid country code. Please enter either US, CA, or MX.\")\n",
        "        continue\n",
        "\n",
        "  statistic = input(\"Enter a statistic (pop, gdp, ccy, or fx): \").lower()\n",
        "  if statistic not in allData[country_code]:\n",
        "        print(\"Invalid statistic. Please enter either pop, gdp, ccy, or fx.\")\n",
        "        continue\n",
        "\n",
        "  value = allData[country_code][statistic]\n",
        "  print(f\"{country_code} {statistic} = {value}\")\n",
        "  break"
      ],
      "metadata": {
        "id": "jY7S2Ty203wa"
      },
      "execution_count": null,
      "outputs": []
    },
    {
      "cell_type": "code",
      "source": [
        "def calcTuition(credits):\n",
        "  if credits >= 12:\n",
        "    print(f\"The tuition is $20,000\")\n",
        "  elif credits <12 and credits >=1:\n",
        "    print(f'Tuition = {1200 + 1700 * credits}$')\n",
        "  else:\n",
        "    print(f'Invalid number of credits: {credits}')\n",
        "\n",
        "  credits = int(input(\"Enter the number of credits: \"))\n",
        "  calcTuition(credits)\n"
      ],
      "metadata": {
        "id": "P6_asbq806TJ"
      },
      "execution_count": null,
      "outputs": []
    },
    {
      "cell_type": "code",
      "source": [
        "year = int(input(\"Enter a year: \"))\n",
        "\n",
        "\n",
        "\n",
        "if (year%4 == 0 and year%100 != 0) or year%400 == 0:\n",
        "\n",
        "  print (f'Yes, {year} is  a leap year!')\n",
        "\n",
        "else:\n",
        "\n",
        "  print (f'No, {year} is not a leap year.')"
      ],
      "metadata": {
        "id": "aJXZOvIB2XIJ"
      },
      "execution_count": null,
      "outputs": []
    }
  ],
  "metadata": {
    "colab": {
      "provenance": [],
      "authorship_tag": "ABX9TyNHvvQqWAXsqG/quf9IQPDB",
      "include_colab_link": true
    },
    "kernelspec": {
      "display_name": "Python 3",
      "name": "python3"
    },
    "language_info": {
      "name": "python"
    }
  },
  "nbformat": 4,
  "nbformat_minor": 0
}